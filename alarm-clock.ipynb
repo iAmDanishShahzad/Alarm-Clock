{
 "cells": [
  {
   "cell_type": "code",
   "execution_count": 82,
   "metadata": {},
   "outputs": [],
   "source": [
    "from tkinter.ttk import *\n",
    "from tkinter import *\n",
    "from PIL import ImageTk, Image\n",
    "from pygame import mixer\n",
    "from threading import Thread\n",
    "from datetime import datetime\n",
    "from time import sleep"
   ]
  },
  {
   "cell_type": "code",
   "execution_count": 84,
   "metadata": {},
   "outputs": [],
   "source": [
    "bg_color = \"#ffffff\"\n",
    "color_1 = \"#566FC6\"\n",
    "color_2 = \"#ffffff\"\n",
    "\n",
    "mixer.init()"
   ]
  },
  {
   "cell_type": "code",
   "execution_count": 85,
   "metadata": {},
   "outputs": [],
   "source": [
    "# Window\n",
    "window = Tk()\n",
    "window.title(\"\")\n",
    "window.geometry(\"350x150\")\n",
    "window.configure(bg=bg_color)"
   ]
  },
  {
   "cell_type": "code",
   "execution_count": 87,
   "metadata": {},
   "outputs": [],
   "source": [
    "# Frames\n",
    "frame_line = Frame(window, width=400, height=5, bg=color_1)\n",
    "frame_line.grid(row=0, column=0)\n",
    "\n",
    "frame_body = Frame(window, width=400, height=290, bg=color_2)\n",
    "frame_body.grid(row=1, column=0)"
   ]
  },
  {
   "cell_type": "code",
   "execution_count": 88,
   "metadata": {},
   "outputs": [],
   "source": [
    "# image\n",
    "img = Image.open('alarm-clock-icon.png')\n",
    "img.resize((100, 100))\n",
    "img = ImageTk.PhotoImage(img)\n",
    "\n",
    "app_image = Label(frame_body, height=100, image=img, bg=bg_color)\n",
    "app_image.place(x=10, y=10)"
   ]
  },
  {
   "cell_type": "code",
   "execution_count": 90,
   "metadata": {},
   "outputs": [],
   "source": [
    "name = Label(frame_body, text= 'Alarm', height=1, font=('Ivy 18 bold'), bg=bg_color)\n",
    "name.place(x=125, y=10)\n",
    "\n",
    "hour = Label(frame_body, text= 'hour', height=1, font=('Ivy 10 bold'), bg=bg_color, fg=color_1)\n",
    "hour.place(x=127, y=40)\n",
    "\n",
    "combo_hour = Combobox(frame_body, width=2, font=('arial 15'))\n",
    "combo_hour['values'] = (\"01\", \"02\", \"03\", \"04\", \"05\", \"06\", \"07\", \"08\", \"09\", \"10\", \"11\", \"12\")\n",
    "combo_hour.current(0)\n",
    "combo_hour.place(x=130, y=58)\n",
    "\n",
    "minutes = Label(frame_body, text= 'minutes', height=1, font=('Ivy 10 bold'), bg=bg_color, fg=color_1)\n",
    "minutes.place(x=177, y=40)\n",
    "\n",
    "combo_minutes = Combobox(frame_body, width=2, font=('arial 15'))\n",
    "combo_minutes['values'] = (\"00\", \"01\", \"02\", \"03\", \"04\", \"05\", \"06\", \"07\", \"08\", \"09\", \"10\", \"11\", \"12\", \"13\", \"14\", \"15\", \"16\", \"17\", \"18\", \"19\", \"20\", \"21\", \"22\", \"23\", \"24\", \"25\", \"26\", \"27\", \"28\", \"29\", \"30\", \"31\", \"32\", \"33\", \"34\", \"35\", \"36\", \"37\", \"38\", \"39\", \"40\", \"41\", \"42\", \"43\", \"44\", \"45\", \"46\", \"47\", \"48\", \"49\", \"50\", \"51\", \"52\", \"53\", \"54\", \"55\", \"56\", \"57\", \"58\", \"59\")\n",
    "combo_minutes.current(0)\n",
    "combo_minutes.place(x=180, y=58)\n",
    "\n",
    "seconds = Label(frame_body, text= 'seconds', height=1, font=('Ivy 10 bold'), bg=bg_color, fg=color_1)\n",
    "seconds.place(x=227, y=40)\n",
    "\n",
    "combo_seconds = Combobox(frame_body, width=2, font=('arial 15'))\n",
    "combo_seconds['values'] = (\"00\", \"01\", \"02\", \"03\", \"04\", \"05\", \"06\", \"07\", \"08\", \"09\", \"10\", \"11\", \"12\", \"13\", \"14\", \"15\", \"16\", \"17\", \"18\", \"19\", \"20\", \"21\", \"22\", \"23\", \"24\", \"25\", \"26\", \"27\", \"28\", \"29\", \"30\", \"31\", \"32\", \"33\", \"34\", \"35\", \"36\", \"37\", \"38\", \"39\", \"40\", \"41\", \"42\", \"43\", \"44\", \"45\", \"46\", \"47\", \"48\", \"49\", \"50\", \"51\", \"52\", \"53\", \"54\", \"55\", \"56\", \"57\", \"58\", \"59\")\n",
    "combo_seconds.current(0)\n",
    "combo_seconds.place(x=230, y=58)\n",
    "\n",
    "period = Label(frame_body, text= 'AM/PM', height=1, font=('Ivy 10 bold'), bg=bg_color, fg=color_1)\n",
    "period.place(x=277, y=40)\n",
    "\n",
    "combo_period = Combobox(frame_body, width=3, font=('arial 15'))\n",
    "combo_period['values'] = (\"AM\", \"PM\")\n",
    "combo_period.current(0)\n",
    "combo_period.place(x=280, y=58)"
   ]
  },
  {
   "cell_type": "code",
   "execution_count": 91,
   "metadata": {},
   "outputs": [],
   "source": [
    "def sound_alarm():\n",
    "    mixer.music.load('alarm.wav')\n",
    "    mixer.music.play()\n",
    "    selected.set(0)\n",
    "\n",
    "    radio_2 = Radiobutton(frame_body, font = ('arial 10 bold'), value = 2, text='Decctivate', bg = bg_color, command=deactivate_alarm, variable=selected)\n",
    "    radio_2.place(x=187, y=95)\n",
    "    \n",
    "# sound_alarm()"
   ]
  },
  {
   "cell_type": "code",
   "execution_count": 92,
   "metadata": {},
   "outputs": [],
   "source": [
    "def alarm():\n",
    "    while True:\n",
    "        control = selected.get()\n",
    "        print(control)\n",
    "\n",
    "        alarm_hour = combo_hour.get()\n",
    "        alarm_minute = combo_minutes.get()\n",
    "        alarm_seconds = combo_seconds.get()\n",
    "        alarm_period = str(combo_period.get()).upper()\n",
    "\n",
    "        now = datetime.now()\n",
    "\n",
    "        current_hour = now.strftime('%I')\n",
    "        current_minutes = now.strftime('%M')\n",
    "        current_seconds = now.strftime('%S')\n",
    "        current_period = now.strftime('%p')\n",
    "\n",
    "        if control == 1:\n",
    "            if alarm_period == current_period:\n",
    "                if alarm_hour == current_hour:\n",
    "                    if alarm_minute == current_minutes:\n",
    "                        if alarm_seconds == current_seconds:\n",
    "                            print(\"Time to take a break!\")\n",
    "                            sound_alarm()\n",
    "\n",
    "        sleep(1)"
   ]
  },
  {
   "cell_type": "code",
   "execution_count": 93,
   "metadata": {},
   "outputs": [],
   "source": [
    "def activate_alarm():\n",
    "    t = Thread(target=alarm)\n",
    "    t.start()"
   ]
  },
  {
   "cell_type": "code",
   "execution_count": 94,
   "metadata": {},
   "outputs": [],
   "source": [
    "def deactivate_alarm():\n",
    "    print(\"Deactivate alarm\")\n",
    "    mixer.music.stop()"
   ]
  },
  {
   "cell_type": "code",
   "execution_count": 95,
   "metadata": {},
   "outputs": [],
   "source": [
    "selected = IntVar()\n",
    "\n",
    "radio_1 = Radiobutton(frame_body, font=('arial 10 bold'), value=1, text='Activate', bg=bg_color, command=activate_alarm, variable=selected)\n",
    "radio_1.place(x=125, y=95)"
   ]
  },
  {
   "cell_type": "code",
   "execution_count": 81,
   "metadata": {},
   "outputs": [],
   "source": [
    "window.mainloop()"
   ]
  }
 ],
 "metadata": {
  "kernelspec": {
   "display_name": "Python 3",
   "language": "python",
   "name": "python3"
  },
  "language_info": {
   "codemirror_mode": {
    "name": "ipython",
    "version": 3
   },
   "file_extension": ".py",
   "mimetype": "text/x-python",
   "name": "python",
   "nbconvert_exporter": "python",
   "pygments_lexer": "ipython3",
   "version": "3.12.0"
  }
 },
 "nbformat": 4,
 "nbformat_minor": 2
}
