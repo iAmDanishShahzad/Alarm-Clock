{
 "cells": [
  {
   "cell_type": "code",
   "execution_count": 2,
   "metadata": {},
   "outputs": [
    {
     "name": "stdout",
     "output_type": "stream",
     "text": [
      "pygame 2.5.2 (SDL 2.28.3, Python 3.12.0)\n",
      "Hello from the pygame community. https://www.pygame.org/contribute.html\n"
     ]
    }
   ],
   "source": [
    "from tkinter.ttk import *\n",
    "from tkinter import *\n",
    "\n",
    "from pygame import mixer\n",
    "\n",
    "from datetime import datetime\n",
    "from time import sleep"
   ]
  },
  {
   "cell_type": "code",
   "execution_count": 3,
   "metadata": {},
   "outputs": [],
   "source": [
    "def sound_alarm():\n",
    "    mixer.music.load('alarm.wav')\n",
    "    mixer.music.play()\n",
    "\n",
    "mixer.init()\n",
    "sound_alarm()"
   ]
  },
  {
   "cell_type": "code",
   "execution_count": 4,
   "metadata": {},
   "outputs": [
    {
     "name": "stdout",
     "output_type": "stream",
     "text": [
      "1\n",
      "1\n",
      "1\n",
      "Time to take a break!\n",
      "1\n",
      "1\n",
      "1\n",
      "1\n",
      "1\n",
      "1\n",
      "1\n",
      "1\n"
     ]
    }
   ],
   "source": [
    "def alarm():\n",
    "    while True:\n",
    "        control = 1\n",
    "        print(control)\n",
    "\n",
    "        alarm_hour = '08'\n",
    "        alarm_minute = '00'\n",
    "        alarm_seconds = '00'\n",
    "        alarm_period = 'AM'.upper()\n",
    "\n",
    "        now = datetime.now()\n",
    "\n",
    "        current_hour = now.strftime('%I')\n",
    "        current_minutes = now.strftime('%M')\n",
    "        current_seconds = now.strftime('%S')\n",
    "        current_period = now.strftime('%p')\n",
    "\n",
    "        if control == 1:\n",
    "            if alarm_period == current_period:\n",
    "                if alarm_hour == current_hour:\n",
    "                    if alarm_minute == current_minutes:\n",
    "                        if alarm_seconds == current_seconds:\n",
    "                            print(\"Time to take a break!\")\n",
    "                            sound_alarm()\n",
    "\n",
    "        sleep(1)\n",
    "\n",
    "alarm()"
   ]
  },
  {
   "cell_type": "code",
   "execution_count": 3,
   "metadata": {},
   "outputs": [
    {
     "data": {
      "text/plain": [
       "''"
      ]
     },
     "execution_count": 3,
     "metadata": {},
     "output_type": "execute_result"
    }
   ],
   "source": [
    "# Window\n",
    "window = Tk()\n",
    "window.title('Demo window')\n",
    "window.geometry(\"350x150\")\n",
    "\n"
   ]
  },
  {
   "cell_type": "code",
   "execution_count": 4,
   "metadata": {},
   "outputs": [],
   "source": [
    "window.mainloop()"
   ]
  },
  {
   "cell_type": "code",
   "execution_count": null,
   "metadata": {},
   "outputs": [],
   "source": []
  }
 ],
 "metadata": {
  "kernelspec": {
   "display_name": "Python 3",
   "language": "python",
   "name": "python3"
  },
  "language_info": {
   "codemirror_mode": {
    "name": "ipython",
    "version": 3
   },
   "file_extension": ".py",
   "mimetype": "text/x-python",
   "name": "python",
   "nbconvert_exporter": "python",
   "pygments_lexer": "ipython3",
   "version": "3.12.0"
  }
 },
 "nbformat": 4,
 "nbformat_minor": 2
}
